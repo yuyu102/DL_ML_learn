{
 "cells": [
  {
   "cell_type": "code",
   "execution_count": 2,
   "metadata": {},
   "outputs": [],
   "source": [
    "import pandas as pd\n",
    "import numpy as np\n",
    "import matplotlib.pyplot as plt\n",
    "\n",
    "df = pd.read_csv('./data/ta_20220921111947.csv',header=6)\n",
    "df.rename(columns={\n",
    "    df.columns[2]: '평균기온',\n",
    "    df.columns[3]: '최저기온',\n",
    "    df.columns[4]: '최고기온'\n",
    "},inplace=True)\n",
    "\n",
    "# 결측 데이터 삭제\n",
    "df.dropna(inplace=True)\n",
    "# 날짜 데이터 Str => date 형으로 변환\n",
    "df['날짜'] = df['날짜'].astype('datetime64[ns]')"
   ]
  },
  {
   "cell_type": "code",
   "execution_count": 3,
   "metadata": {},
   "outputs": [],
   "source": [
    "df['년'] = df['날짜'].dt.year\n",
    "df['월'] = df['날짜'].dt.month\n",
    "df['일'] = df['날짜'].dt.day"
   ]
  },
  {
   "cell_type": "code",
   "execution_count": 4,
   "metadata": {},
   "outputs": [
    {
     "data": {
      "text/html": [
       "<div>\n",
       "<style scoped>\n",
       "    .dataframe tbody tr th:only-of-type {\n",
       "        vertical-align: middle;\n",
       "    }\n",
       "\n",
       "    .dataframe tbody tr th {\n",
       "        vertical-align: top;\n",
       "    }\n",
       "\n",
       "    .dataframe thead th {\n",
       "        text-align: right;\n",
       "    }\n",
       "</style>\n",
       "<table border=\"1\" class=\"dataframe\">\n",
       "  <thead>\n",
       "    <tr style=\"text-align: right;\">\n",
       "      <th></th>\n",
       "      <th>날짜</th>\n",
       "      <th>지점</th>\n",
       "      <th>평균기온</th>\n",
       "      <th>최저기온</th>\n",
       "      <th>최고기온</th>\n",
       "      <th>년</th>\n",
       "      <th>월</th>\n",
       "      <th>일</th>\n",
       "    </tr>\n",
       "  </thead>\n",
       "  <tbody>\n",
       "    <tr>\n",
       "      <th>0</th>\n",
       "      <td>1907-10-01</td>\n",
       "      <td>159</td>\n",
       "      <td>19.1</td>\n",
       "      <td>13.8</td>\n",
       "      <td>24.0</td>\n",
       "      <td>1907</td>\n",
       "      <td>10</td>\n",
       "      <td>1</td>\n",
       "    </tr>\n",
       "    <tr>\n",
       "      <th>1</th>\n",
       "      <td>1907-10-02</td>\n",
       "      <td>159</td>\n",
       "      <td>17.1</td>\n",
       "      <td>13.7</td>\n",
       "      <td>20.8</td>\n",
       "      <td>1907</td>\n",
       "      <td>10</td>\n",
       "      <td>2</td>\n",
       "    </tr>\n",
       "    <tr>\n",
       "      <th>2</th>\n",
       "      <td>1907-10-03</td>\n",
       "      <td>159</td>\n",
       "      <td>19.1</td>\n",
       "      <td>14.3</td>\n",
       "      <td>25.1</td>\n",
       "      <td>1907</td>\n",
       "      <td>10</td>\n",
       "      <td>3</td>\n",
       "    </tr>\n",
       "    <tr>\n",
       "      <th>3</th>\n",
       "      <td>1907-10-04</td>\n",
       "      <td>159</td>\n",
       "      <td>18.3</td>\n",
       "      <td>12.9</td>\n",
       "      <td>23.4</td>\n",
       "      <td>1907</td>\n",
       "      <td>10</td>\n",
       "      <td>4</td>\n",
       "    </tr>\n",
       "    <tr>\n",
       "      <th>4</th>\n",
       "      <td>1907-10-05</td>\n",
       "      <td>159</td>\n",
       "      <td>19.2</td>\n",
       "      <td>16.4</td>\n",
       "      <td>20.2</td>\n",
       "      <td>1907</td>\n",
       "      <td>10</td>\n",
       "      <td>5</td>\n",
       "    </tr>\n",
       "  </tbody>\n",
       "</table>\n",
       "</div>"
      ],
      "text/plain": [
       "          날짜   지점  평균기온  최저기온  최고기온     년   월  일\n",
       "0 1907-10-01  159  19.1  13.8  24.0  1907  10  1\n",
       "1 1907-10-02  159  17.1  13.7  20.8  1907  10  2\n",
       "2 1907-10-03  159  19.1  14.3  25.1  1907  10  3\n",
       "3 1907-10-04  159  18.3  12.9  23.4  1907  10  4\n",
       "4 1907-10-05  159  19.2  16.4  20.2  1907  10  5"
      ]
     },
     "execution_count": 4,
     "metadata": {},
     "output_type": "execute_result"
    }
   ],
   "source": [
    "df.head()"
   ]
  },
  {
   "cell_type": "code",
   "execution_count": 5,
   "metadata": {},
   "outputs": [
    {
     "data": {
      "text/plain": [
       "92       2.1\n",
       "93      -1.9\n",
       "94      -0.8\n",
       "95       0.1\n",
       "96       1.0\n",
       "        ... \n",
       "41757    6.3\n",
       "41758    4.7\n",
       "41759    3.3\n",
       "41760    3.2\n",
       "41761    3.6\n",
       "Name: 평균기온, Length: 3565, dtype: float64"
      ]
     },
     "execution_count": 5,
     "metadata": {},
     "output_type": "execute_result"
    }
   ],
   "source": [
    "df.loc[df['월'] == 1,'평균기온']"
   ]
  },
  {
   "cell_type": "code",
   "execution_count": 6,
   "metadata": {},
   "outputs": [
    {
     "data": {
      "text/plain": [
       "123      5.8\n",
       "124      3.4\n",
       "125     -1.9\n",
       "126     -0.8\n",
       "127     -2.9\n",
       "        ... \n",
       "41785    1.6\n",
       "41786    5.0\n",
       "41787    7.7\n",
       "41788    6.7\n",
       "41789    9.8\n",
       "Name: 평균기온, Length: 3248, dtype: float64"
      ]
     },
     "execution_count": 6,
     "metadata": {},
     "output_type": "execute_result"
    }
   ],
   "source": [
    "df.loc[df['월'] == 2,'평균기온']"
   ]
  },
  {
   "cell_type": "code",
   "execution_count": 7,
   "metadata": {},
   "outputs": [],
   "source": [
    "avg_month = []\n",
    "\n",
    "for i in range(1,13):\n",
    "    # print(i)\n",
    "    avg_month.append(df.loc[df['월'] == i,'평균기온'])"
   ]
  },
  {
   "cell_type": "code",
   "execution_count": 8,
   "metadata": {},
   "outputs": [
    {
     "data": {
      "text/plain": [
       "92       2.1\n",
       "93      -1.9\n",
       "94      -0.8\n",
       "95       0.1\n",
       "96       1.0\n",
       "        ... \n",
       "41757    6.3\n",
       "41758    4.7\n",
       "41759    3.3\n",
       "41760    3.2\n",
       "41761    3.6\n",
       "Name: 평균기온, Length: 3565, dtype: float64"
      ]
     },
     "execution_count": 8,
     "metadata": {},
     "output_type": "execute_result"
    }
   ],
   "source": [
    "avg_month[0]"
   ]
  },
  {
   "cell_type": "code",
   "execution_count": 9,
   "metadata": {},
   "outputs": [
    {
     "data": {
      "image/png": "[encoded data removed]",
      "text/plain": [
       "<Figure size 640x480 with 1 Axes>"
      ]
     },
     "metadata": {},
     "output_type": "display_data"
    }
   ],
   "source": [
    "plt.boxplot(avg_month)\n",
    "plt.show()"
   ]
  }
 ],
 "metadata": {
  "kernelspec": {
   "display_name": "Python 3",
   "language": "python",
   "name": "python3"
  },
  "language_info": {
   "codemirror_mode": {
    "name": "ipython",
    "version": 3
   },
   "file_extension": ".py",
   "mimetype": "text/x-python",
   "name": "python",
   "nbconvert_exporter": "python",
   "pygments_lexer": "ipython3",
   "version": "3.11.1"
  }
 },
 "nbformat": 4,
 "nbformat_minor": 2
}
